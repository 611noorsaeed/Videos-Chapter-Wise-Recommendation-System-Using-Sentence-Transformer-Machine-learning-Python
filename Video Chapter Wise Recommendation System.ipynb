{
 "cells": [
  {
   "cell_type": "markdown",
   "id": "d0d503e5",
   "metadata": {},
   "source": [
    "# Imports"
   ]
  },
  {
   "cell_type": "code",
   "execution_count": 1,
   "id": "74e70030",
   "metadata": {},
   "outputs": [
    {
     "name": "stderr",
     "output_type": "stream",
     "text": [
      "C:\\Users\\Noor Saeed\\anaconda3\\lib\\site-packages\\pandas\\core\\computation\\expressions.py:21: UserWarning: Pandas requires version '2.8.4' or newer of 'numexpr' (version '2.8.1' currently installed).\n",
      "  from pandas.core.computation.check import NUMEXPR_INSTALLED\n",
      "C:\\Users\\Noor Saeed\\anaconda3\\lib\\site-packages\\pandas\\core\\arrays\\masked.py:60: UserWarning: Pandas requires version '1.3.6' or newer of 'bottleneck' (version '1.3.4' currently installed).\n",
      "  from pandas.core import (\n",
      "C:\\Users\\Noor Saeed\\anaconda3\\lib\\site-packages\\sentence_transformers\\cross_encoder\\CrossEncoder.py:13: TqdmExperimentalWarning: Using `tqdm.autonotebook.tqdm` in notebook mode. Use `tqdm.tqdm` instead to force console mode (e.g. in jupyter console)\n",
      "  from tqdm.autonotebook import tqdm, trange\n"
     ]
    }
   ],
   "source": [
    "import pandas as pd\n",
    "import numpy as np\n",
    "import seaborn as sns\n",
    "import matplotlib.pyplot as plt\n",
    "from sentence_transformers import SentenceTransformer, util\n",
    "from sklearn.preprocessing import StandardScaler\n",
    "import torch"
   ]
  },
  {
   "cell_type": "markdown",
   "id": "a67f51a2",
   "metadata": {},
   "source": [
    "# Load the data"
   ]
  },
  {
   "cell_type": "code",
   "execution_count": 2,
   "id": "837587fd",
   "metadata": {},
   "outputs": [
    {
     "data": {
      "text/html": [
       "<div>\n",
       "<style scoped>\n",
       "    .dataframe tbody tr th:only-of-type {\n",
       "        vertical-align: middle;\n",
       "    }\n",
       "\n",
       "    .dataframe tbody tr th {\n",
       "        vertical-align: top;\n",
       "    }\n",
       "\n",
       "    .dataframe thead th {\n",
       "        text-align: right;\n",
       "    }\n",
       "</style>\n",
       "<table border=\"1\" class=\"dataframe\">\n",
       "  <thead>\n",
       "    <tr style=\"text-align: right;\">\n",
       "      <th></th>\n",
       "      <th>Video ID</th>\n",
       "      <th>Title</th>\n",
       "      <th>Chapter Number</th>\n",
       "      <th>Duration</th>\n",
       "      <th>Description</th>\n",
       "      <th>Keywords</th>\n",
       "      <th>Level</th>\n",
       "      <th>Recommended Age Group</th>\n",
       "      <th>Language</th>\n",
       "      <th>URL</th>\n",
       "      <th>Rating</th>\n",
       "      <th>Views</th>\n",
       "      <th>Upload Date</th>\n",
       "      <th>Related Videos</th>\n",
       "    </tr>\n",
       "  </thead>\n",
       "  <tbody>\n",
       "    <tr>\n",
       "      <th>0</th>\n",
       "      <td>VID0000</td>\n",
       "      <td>Admit may price yard stand old imagine</td>\n",
       "      <td>1</td>\n",
       "      <td>55.98</td>\n",
       "      <td>Practice store performance still. Necessary fr...</td>\n",
       "      <td>Mrs, sing, heavy, perform, appear</td>\n",
       "      <td>Intermediate</td>\n",
       "      <td>16-20</td>\n",
       "      <td>English</td>\n",
       "      <td>https://www.foster.net/</td>\n",
       "      <td>3.1</td>\n",
       "      <td>2144</td>\n",
       "      <td>2022-12-23</td>\n",
       "      <td>VID2552</td>\n",
       "    </tr>\n",
       "    <tr>\n",
       "      <th>1</th>\n",
       "      <td>VID0001</td>\n",
       "      <td>Animal run human</td>\n",
       "      <td>2</td>\n",
       "      <td>8.81</td>\n",
       "      <td>Institution politics almost bed. Rich learn mo...</td>\n",
       "      <td>matter, across, he, notice</td>\n",
       "      <td>Intermediate</td>\n",
       "      <td>41-50</td>\n",
       "      <td>Mandarin</td>\n",
       "      <td>http://larsen.biz/</td>\n",
       "      <td>2.5</td>\n",
       "      <td>8732</td>\n",
       "      <td>2022-03-05</td>\n",
       "      <td>VID0291</td>\n",
       "    </tr>\n",
       "    <tr>\n",
       "      <th>2</th>\n",
       "      <td>VID0002</td>\n",
       "      <td>Discussion reveal return especially</td>\n",
       "      <td>10</td>\n",
       "      <td>20.99</td>\n",
       "      <td>Effort political charge high answer perform ho...</td>\n",
       "      <td>huge, reality, story, above, develop, treat</td>\n",
       "      <td>Intermediate</td>\n",
       "      <td>21-30</td>\n",
       "      <td>French</td>\n",
       "      <td>https://martin.net/</td>\n",
       "      <td>2.5</td>\n",
       "      <td>3345</td>\n",
       "      <td>2023-11-26</td>\n",
       "      <td>VID1302</td>\n",
       "    </tr>\n",
       "    <tr>\n",
       "      <th>3</th>\n",
       "      <td>VID0003</td>\n",
       "      <td>List evening</td>\n",
       "      <td>2</td>\n",
       "      <td>47.73</td>\n",
       "      <td>Card defense why consider. Wish effort resourc...</td>\n",
       "      <td>decade, its, now, reason, measure, upon</td>\n",
       "      <td>Beginner</td>\n",
       "      <td>16-20</td>\n",
       "      <td>French</td>\n",
       "      <td>http://www.wright-wright.net/</td>\n",
       "      <td>1.3</td>\n",
       "      <td>9569</td>\n",
       "      <td>2022-01-28</td>\n",
       "      <td>VID3476, VID0917</td>\n",
       "    </tr>\n",
       "    <tr>\n",
       "      <th>4</th>\n",
       "      <td>VID0004</td>\n",
       "      <td>Want involve he</td>\n",
       "      <td>6</td>\n",
       "      <td>50.23</td>\n",
       "      <td>Save live oil race suggest. Break middle light...</td>\n",
       "      <td>between, support, concern, star, return, citizen</td>\n",
       "      <td>Intermediate</td>\n",
       "      <td>31-40</td>\n",
       "      <td>Spanish</td>\n",
       "      <td>https://duke-taylor.com/</td>\n",
       "      <td>4.2</td>\n",
       "      <td>1285</td>\n",
       "      <td>2021-04-13</td>\n",
       "      <td>VID4039, VID3470</td>\n",
       "    </tr>\n",
       "  </tbody>\n",
       "</table>\n",
       "</div>"
      ],
      "text/plain": [
       "  Video ID                                   Title  Chapter Number  Duration  \\\n",
       "0  VID0000  Admit may price yard stand old imagine               1     55.98   \n",
       "1  VID0001                        Animal run human               2      8.81   \n",
       "2  VID0002     Discussion reveal return especially              10     20.99   \n",
       "3  VID0003                            List evening               2     47.73   \n",
       "4  VID0004                         Want involve he               6     50.23   \n",
       "\n",
       "                                         Description  \\\n",
       "0  Practice store performance still. Necessary fr...   \n",
       "1  Institution politics almost bed. Rich learn mo...   \n",
       "2  Effort political charge high answer perform ho...   \n",
       "3  Card defense why consider. Wish effort resourc...   \n",
       "4  Save live oil race suggest. Break middle light...   \n",
       "\n",
       "                                           Keywords         Level  \\\n",
       "0                 Mrs, sing, heavy, perform, appear  Intermediate   \n",
       "1                        matter, across, he, notice  Intermediate   \n",
       "2       huge, reality, story, above, develop, treat  Intermediate   \n",
       "3           decade, its, now, reason, measure, upon      Beginner   \n",
       "4  between, support, concern, star, return, citizen  Intermediate   \n",
       "\n",
       "  Recommended Age Group  Language                            URL  Rating  \\\n",
       "0                 16-20   English        https://www.foster.net/     3.1   \n",
       "1                 41-50  Mandarin             http://larsen.biz/     2.5   \n",
       "2                 21-30    French            https://martin.net/     2.5   \n",
       "3                 16-20    French  http://www.wright-wright.net/     1.3   \n",
       "4                 31-40   Spanish       https://duke-taylor.com/     4.2   \n",
       "\n",
       "   Views Upload Date    Related Videos  \n",
       "0   2144  2022-12-23           VID2552  \n",
       "1   8732  2022-03-05           VID0291  \n",
       "2   3345  2023-11-26           VID1302  \n",
       "3   9569  2022-01-28  VID3476, VID0917  \n",
       "4   1285  2021-04-13  VID4039, VID3470  "
      ]
     },
     "execution_count": 2,
     "metadata": {},
     "output_type": "execute_result"
    }
   ],
   "source": [
    "df = pd.read_csv(\"realistic_video_recommendations.csv\")\n",
    "df.head()"
   ]
  },
  {
   "cell_type": "markdown",
   "id": "1b326483",
   "metadata": {},
   "source": [
    "# Preprocessing and Cleaning"
   ]
  },
  {
   "cell_type": "code",
   "execution_count": 3,
   "id": "be38129f",
   "metadata": {},
   "outputs": [
    {
     "name": "stdout",
     "output_type": "stream",
     "text": [
      "Missing Values:\n",
      " Video ID                 0\n",
      "Title                    0\n",
      "Chapter Number           0\n",
      "Duration                 0\n",
      "Description              0\n",
      "Keywords                 0\n",
      "Level                    0\n",
      "Recommended Age Group    0\n",
      "Language                 0\n",
      "URL                      0\n",
      "Rating                   0\n",
      "Views                    0\n",
      "Upload Date              0\n",
      "Related Videos           0\n",
      "dtype: int64\n",
      "Dataset Statistics:\n",
      "        Chapter Number     Duration       Rating        Views\n",
      "count     5000.000000  5000.000000  5000.000000  5000.000000\n",
      "mean         5.510000    32.014210     2.999200  5215.845200\n",
      "std          2.831449    15.898282     1.153377  2730.368891\n",
      "min          1.000000     5.010000     1.000000   501.000000\n",
      "25%          3.000000    18.135000     2.000000  2889.500000\n",
      "50%          5.000000    31.905000     3.000000  5200.000000\n",
      "75%          8.000000    45.955000     4.000000  7562.000000\n",
      "max         10.000000    59.990000     5.000000  9996.000000\n"
     ]
    }
   ],
   "source": [
    "# Check for missing values\n",
    "print(\"Missing Values:\\n\", df.isnull().sum())\n",
    "\n",
    "# Check basic statistics for numerical features\n",
    "print(\"Dataset Statistics:\\n\", df.describe())"
   ]
  },
  {
   "cell_type": "markdown",
   "id": "76d6da9d",
   "metadata": {},
   "source": [
    "# Cleaning"
   ]
  },
  {
   "cell_type": "code",
   "execution_count": 4,
   "id": "0399b3af",
   "metadata": {},
   "outputs": [
    {
     "name": "stderr",
     "output_type": "stream",
     "text": [
      "[nltk_data] Downloading package stopwords to C:\\Users\\Noor\n",
      "[nltk_data]     Saeed\\AppData\\Roaming\\nltk_data...\n",
      "[nltk_data]   Package stopwords is already up-to-date!\n"
     ]
    }
   ],
   "source": [
    "# Import Libraries\n",
    "import pandas as pd\n",
    "import re\n",
    "from nltk.corpus import stopwords\n",
    "import nltk\n",
    "\n",
    "# Download stopwords if not already downloaded\n",
    "nltk.download('stopwords')\n",
    "\n",
    "\n",
    "# Load stopwords\n",
    "stop_words = set(stopwords.words('english'))\n",
    "\n",
    "# Define a cleaning function\n",
    "def clean_text(text):\n",
    "    # Lowercase the text\n",
    "    text = text.lower()\n",
    "    # Remove non-alphabetic characters and split words\n",
    "    words = re.findall(r'\\b\\w+\\b', text)\n",
    "    # Remove stopwords\n",
    "    filtered_words = [word for word in words if word not in stop_words]\n",
    "    # Join words back into a single string\n",
    "    cleaned_text = ' '.join(filtered_words)\n",
    "    return cleaned_text\n",
    "\n",
    "# Apply cleaning to Title and Description columns\n",
    "df['clean_title'] = df['Title'].apply(clean_text)\n",
    "df['clean_desc'] = df['Description'].apply(clean_text)"
   ]
  },
  {
   "cell_type": "markdown",
   "id": "6a52cbdd",
   "metadata": {},
   "source": [
    "# Combine relevant text features for similarity analysis"
   ]
  },
  {
   "cell_type": "code",
   "execution_count": 5,
   "id": "08e0fc2a",
   "metadata": {},
   "outputs": [],
   "source": [
    "# Combine relevant text features for similarity analysis\n",
    "# Now create 'combined_text' by including the additional relevant columns\n",
    "df['combined_text'] = (\n",
    "    df['clean_title'] + \" \" + \n",
    "    df['clean_desc'] + \" \" + \n",
    "    df['Keywords'] + \" \" + \n",
    "    df['Level'].fillna('') + \" \" + \n",
    "    df['Language'].fillna('') + \" \" + \n",
    "    df['Recommended Age Group'].astype(str) + \" \" + \n",
    "    df['Chapter Number'].astype(str)\n",
    ")"
   ]
  },
  {
   "cell_type": "markdown",
   "id": "6566187e",
   "metadata": {},
   "source": [
    "# Sentence Transformer and creating embeddings"
   ]
  },
  {
   "cell_type": "code",
   "execution_count": 7,
   "id": "9a5fc75f",
   "metadata": {},
   "outputs": [
    {
     "data": {
      "application/vnd.jupyter.widget-view+json": {
       "model_id": "9d4eaa092813433d9c6ab0af60d312fe",
       "version_major": 2,
       "version_minor": 0
      },
      "text/plain": [
       "model.safetensors:   0%|          | 0.00/90.9M [00:00<?, ?B/s]"
      ]
     },
     "metadata": {},
     "output_type": "display_data"
    },
    {
     "data": {
      "application/vnd.jupyter.widget-view+json": {
       "model_id": "c1aa62c45eae4a8bb9287289ead5f1a5",
       "version_major": 2,
       "version_minor": 0
      },
      "text/plain": [
       "tokenizer_config.json:   0%|          | 0.00/350 [00:00<?, ?B/s]"
      ]
     },
     "metadata": {},
     "output_type": "display_data"
    },
    {
     "data": {
      "application/vnd.jupyter.widget-view+json": {
       "model_id": "1a7485d167be4588bf622bcd67554143",
       "version_major": 2,
       "version_minor": 0
      },
      "text/plain": [
       "vocab.txt:   0%|          | 0.00/232k [00:00<?, ?B/s]"
      ]
     },
     "metadata": {},
     "output_type": "display_data"
    },
    {
     "data": {
      "application/vnd.jupyter.widget-view+json": {
       "model_id": "b877d71a752345f4b83d6f665ad4e948",
       "version_major": 2,
       "version_minor": 0
      },
      "text/plain": [
       "tokenizer.json:   0%|          | 0.00/466k [00:00<?, ?B/s]"
      ]
     },
     "metadata": {},
     "output_type": "display_data"
    },
    {
     "data": {
      "application/vnd.jupyter.widget-view+json": {
       "model_id": "65e47f6f9bd741cbbb03789a7ff26bba",
       "version_major": 2,
       "version_minor": 0
      },
      "text/plain": [
       "special_tokens_map.json:   0%|          | 0.00/112 [00:00<?, ?B/s]"
      ]
     },
     "metadata": {},
     "output_type": "display_data"
    },
    {
     "data": {
      "application/vnd.jupyter.widget-view+json": {
       "model_id": "9013d2aff741446389d825ae6c2fd528",
       "version_major": 2,
       "version_minor": 0
      },
      "text/plain": [
       "1_Pooling/config.json:   0%|          | 0.00/190 [00:00<?, ?B/s]"
      ]
     },
     "metadata": {},
     "output_type": "display_data"
    }
   ],
   "source": [
    "# Initialize the sentence transformer model\n",
    "model = SentenceTransformer('all-MiniLM-L6-v2')\n",
    "\n",
    "# Create embeddings for the combined text column\n",
    "df['embedding'] = df['combined_text'].apply(lambda x: model.encode(x, convert_to_tensor=True))"
   ]
  },
  {
   "cell_type": "code",
   "execution_count": 10,
   "id": "aedb99d9",
   "metadata": {},
   "outputs": [],
   "source": [
    "# save df\n",
    "import pickle\n",
    "pickle.dump(df,open(\"saved_df.pkl\",'wb'))"
   ]
  },
  {
   "cell_type": "markdown",
   "id": "cd44be76",
   "metadata": {},
   "source": [
    "# Recommendation System"
   ]
  },
  {
   "cell_type": "code",
   "execution_count": 11,
   "id": "84dffaed",
   "metadata": {},
   "outputs": [
    {
     "data": {
      "text/html": [
       "<div>\n",
       "<style scoped>\n",
       "    .dataframe tbody tr th:only-of-type {\n",
       "        vertical-align: middle;\n",
       "    }\n",
       "\n",
       "    .dataframe tbody tr th {\n",
       "        vertical-align: top;\n",
       "    }\n",
       "\n",
       "    .dataframe thead th {\n",
       "        text-align: right;\n",
       "    }\n",
       "</style>\n",
       "<table border=\"1\" class=\"dataframe\">\n",
       "  <thead>\n",
       "    <tr style=\"text-align: right;\">\n",
       "      <th></th>\n",
       "      <th>Video ID</th>\n",
       "      <th>Title</th>\n",
       "      <th>Chapter Number</th>\n",
       "      <th>Duration</th>\n",
       "      <th>Description</th>\n",
       "      <th>URL</th>\n",
       "      <th>Rating</th>\n",
       "      <th>Level</th>\n",
       "      <th>Language</th>\n",
       "      <th>Similarity Rank</th>\n",
       "    </tr>\n",
       "  </thead>\n",
       "  <tbody>\n",
       "    <tr>\n",
       "      <th>2560</th>\n",
       "      <td>VID2560</td>\n",
       "      <td>Seem simple that another old</td>\n",
       "      <td>4</td>\n",
       "      <td>50.51</td>\n",
       "      <td>Party time near manager by chance. Cover manag...</td>\n",
       "      <td>https://www.rodriguez.com/</td>\n",
       "      <td>1.0</td>\n",
       "      <td>Advanced</td>\n",
       "      <td>Spanish</td>\n",
       "      <td>1</td>\n",
       "    </tr>\n",
       "    <tr>\n",
       "      <th>4572</th>\n",
       "      <td>VID4572</td>\n",
       "      <td>Conference beat fund</td>\n",
       "      <td>5</td>\n",
       "      <td>30.57</td>\n",
       "      <td>Say stay expect foot fast member many. Yeah TV...</td>\n",
       "      <td>https://smith-mcneil.com/</td>\n",
       "      <td>4.8</td>\n",
       "      <td>Beginner</td>\n",
       "      <td>Spanish</td>\n",
       "      <td>2</td>\n",
       "    </tr>\n",
       "    <tr>\n",
       "      <th>3388</th>\n",
       "      <td>VID3388</td>\n",
       "      <td>Senior over decide what stop research</td>\n",
       "      <td>6</td>\n",
       "      <td>43.57</td>\n",
       "      <td>Picture its staff view. Pass expert grow. Year...</td>\n",
       "      <td>http://gill.org/</td>\n",
       "      <td>4.6</td>\n",
       "      <td>Intermediate</td>\n",
       "      <td>Mandarin</td>\n",
       "      <td>3</td>\n",
       "    </tr>\n",
       "    <tr>\n",
       "      <th>4012</th>\n",
       "      <td>VID4012</td>\n",
       "      <td>Develop discussion large ball chair</td>\n",
       "      <td>10</td>\n",
       "      <td>40.22</td>\n",
       "      <td>Guess picture you play perform. Next thank hel...</td>\n",
       "      <td>http://www.price-myers.info/</td>\n",
       "      <td>3.7</td>\n",
       "      <td>Beginner</td>\n",
       "      <td>English</td>\n",
       "      <td>4</td>\n",
       "    </tr>\n",
       "  </tbody>\n",
       "</table>\n",
       "</div>"
      ],
      "text/plain": [
       "     Video ID                                  Title  Chapter Number  \\\n",
       "2560  VID2560           Seem simple that another old               4   \n",
       "4572  VID4572                   Conference beat fund               5   \n",
       "3388  VID3388  Senior over decide what stop research               6   \n",
       "4012  VID4012    Develop discussion large ball chair              10   \n",
       "\n",
       "      Duration                                        Description  \\\n",
       "2560     50.51  Party time near manager by chance. Cover manag...   \n",
       "4572     30.57  Say stay expect foot fast member many. Yeah TV...   \n",
       "3388     43.57  Picture its staff view. Pass expert grow. Year...   \n",
       "4012     40.22  Guess picture you play perform. Next thank hel...   \n",
       "\n",
       "                               URL  Rating         Level  Language  \\\n",
       "2560    https://www.rodriguez.com/     1.0      Advanced   Spanish   \n",
       "4572     https://smith-mcneil.com/     4.8      Beginner   Spanish   \n",
       "3388              http://gill.org/     4.6  Intermediate  Mandarin   \n",
       "4012  http://www.price-myers.info/     3.7      Beginner   English   \n",
       "\n",
       "      Similarity Rank  \n",
       "2560                1  \n",
       "4572                2  \n",
       "3388                3  \n",
       "4012                4  "
      ]
     },
     "execution_count": 11,
     "metadata": {},
     "output_type": "execute_result"
    }
   ],
   "source": [
    "# Define the sorted recommendation function\n",
    "def get_sorted_recommendations(video_id, top_n=5):\n",
    "    # Retrieve the embedding for the selected video ID\n",
    "    selected_embedding = df[df['Video ID'] == video_id]['embedding'].values[0]\n",
    "    \n",
    "    # Compute cosine similarities\n",
    "    similarities = [(i, util.cos_sim(selected_embedding, emb).item()) for i, emb in enumerate(df['embedding'])]\n",
    "    \n",
    "    # Sort the similarities from highest to lowest score\n",
    "    sorted_similarities = sorted(similarities, key=lambda x: x[1], reverse=True)\n",
    "    \n",
    "    # Get indices of the most similar items, excluding the selected video itself\n",
    "    recommended_indices = [index for index, score in sorted_similarities[1:top_n+1]]\n",
    "    \n",
    "    # Create the final sorted recommendation dataframe\n",
    "    recommendations = df.iloc[recommended_indices]\n",
    "    recommendations = recommendations[['Video ID', 'Title', 'Chapter Number', 'Duration', 'Description', 'URL', 'Rating','Level','Language']]\n",
    "    recommendations['Similarity Rank'] = range(1, len(recommendations) + 1)\n",
    "    \n",
    "    return recommendations\n",
    "\n",
    "# Example: Get sorted recommendations for a given video ID\n",
    "sorted_recommendations = get_sorted_recommendations(video_id=\"VID0000\", top_n=4)\n",
    "sorted_recommendations"
   ]
  },
  {
   "cell_type": "code",
   "execution_count": 12,
   "id": "5de57520",
   "metadata": {},
   "outputs": [
    {
     "data": {
      "text/html": [
       "<div>\n",
       "<style scoped>\n",
       "    .dataframe tbody tr th:only-of-type {\n",
       "        vertical-align: middle;\n",
       "    }\n",
       "\n",
       "    .dataframe tbody tr th {\n",
       "        vertical-align: top;\n",
       "    }\n",
       "\n",
       "    .dataframe thead th {\n",
       "        text-align: right;\n",
       "    }\n",
       "</style>\n",
       "<table border=\"1\" class=\"dataframe\">\n",
       "  <thead>\n",
       "    <tr style=\"text-align: right;\">\n",
       "      <th></th>\n",
       "      <th>Video ID</th>\n",
       "      <th>Title</th>\n",
       "      <th>Chapter Number</th>\n",
       "      <th>Duration</th>\n",
       "      <th>Description</th>\n",
       "      <th>URL</th>\n",
       "      <th>Rating</th>\n",
       "      <th>Level</th>\n",
       "      <th>Language</th>\n",
       "      <th>Similarity Rank</th>\n",
       "    </tr>\n",
       "  </thead>\n",
       "  <tbody>\n",
       "    <tr>\n",
       "      <th>1348</th>\n",
       "      <td>VID1348</td>\n",
       "      <td>About design sit newspaper concern</td>\n",
       "      <td>7</td>\n",
       "      <td>39.59</td>\n",
       "      <td>Play likely degree government miss take. Quali...</td>\n",
       "      <td>https://hall.com/</td>\n",
       "      <td>4.6</td>\n",
       "      <td>Advanced</td>\n",
       "      <td>English</td>\n",
       "      <td>1</td>\n",
       "    </tr>\n",
       "    <tr>\n",
       "      <th>872</th>\n",
       "      <td>VID0872</td>\n",
       "      <td>Career somebody three</td>\n",
       "      <td>7</td>\n",
       "      <td>17.57</td>\n",
       "      <td>Hit have same happen north business key. Conti...</td>\n",
       "      <td>https://jordan.com/</td>\n",
       "      <td>4.2</td>\n",
       "      <td>Beginner</td>\n",
       "      <td>French</td>\n",
       "      <td>2</td>\n",
       "    </tr>\n",
       "    <tr>\n",
       "      <th>1522</th>\n",
       "      <td>VID1522</td>\n",
       "      <td>Newspaper many hold take lawyer nothing rise</td>\n",
       "      <td>6</td>\n",
       "      <td>32.55</td>\n",
       "      <td>International music manage control. And ok gun...</td>\n",
       "      <td>https://www.mann.com/</td>\n",
       "      <td>3.1</td>\n",
       "      <td>Beginner</td>\n",
       "      <td>German</td>\n",
       "      <td>3</td>\n",
       "    </tr>\n",
       "    <tr>\n",
       "      <th>3576</th>\n",
       "      <td>VID3576</td>\n",
       "      <td>Perform federal natural throw sell design Cong...</td>\n",
       "      <td>7</td>\n",
       "      <td>28.31</td>\n",
       "      <td>Vote before bed. Anything plan yet brother any...</td>\n",
       "      <td>http://www.lin.com/</td>\n",
       "      <td>4.6</td>\n",
       "      <td>Beginner</td>\n",
       "      <td>German</td>\n",
       "      <td>4</td>\n",
       "    </tr>\n",
       "  </tbody>\n",
       "</table>\n",
       "</div>"
      ],
      "text/plain": [
       "     Video ID                                              Title  \\\n",
       "1348  VID1348                 About design sit newspaper concern   \n",
       "872   VID0872                              Career somebody three   \n",
       "1522  VID1522       Newspaper many hold take lawyer nothing rise   \n",
       "3576  VID3576  Perform federal natural throw sell design Cong...   \n",
       "\n",
       "      Chapter Number  Duration  \\\n",
       "1348               7     39.59   \n",
       "872                7     17.57   \n",
       "1522               6     32.55   \n",
       "3576               7     28.31   \n",
       "\n",
       "                                            Description  \\\n",
       "1348  Play likely degree government miss take. Quali...   \n",
       "872   Hit have same happen north business key. Conti...   \n",
       "1522  International music manage control. And ok gun...   \n",
       "3576  Vote before bed. Anything plan yet brother any...   \n",
       "\n",
       "                        URL  Rating     Level Language  Similarity Rank  \n",
       "1348      https://hall.com/     4.6  Advanced  English                1  \n",
       "872     https://jordan.com/     4.2  Beginner   French                2  \n",
       "1522  https://www.mann.com/     3.1  Beginner   German                3  \n",
       "3576    http://www.lin.com/     4.6  Beginner   German                4  "
      ]
     },
     "execution_count": 12,
     "metadata": {},
     "output_type": "execute_result"
    }
   ],
   "source": [
    "# Example: Get sorted recommendations for a given video ID\n",
    "sorted_recommendations = get_sorted_recommendations(video_id=\"VID3176\", top_n=4)\n",
    "sorted_recommendations"
   ]
  },
  {
   "cell_type": "code",
   "execution_count": 13,
   "id": "e742f2da",
   "metadata": {},
   "outputs": [
    {
     "data": {
      "text/html": [
       "<div>\n",
       "<style scoped>\n",
       "    .dataframe tbody tr th:only-of-type {\n",
       "        vertical-align: middle;\n",
       "    }\n",
       "\n",
       "    .dataframe tbody tr th {\n",
       "        vertical-align: top;\n",
       "    }\n",
       "\n",
       "    .dataframe thead th {\n",
       "        text-align: right;\n",
       "    }\n",
       "</style>\n",
       "<table border=\"1\" class=\"dataframe\">\n",
       "  <thead>\n",
       "    <tr style=\"text-align: right;\">\n",
       "      <th></th>\n",
       "      <th>Video ID</th>\n",
       "      <th>Title</th>\n",
       "      <th>Chapter Number</th>\n",
       "      <th>Duration</th>\n",
       "      <th>Description</th>\n",
       "      <th>URL</th>\n",
       "      <th>Rating</th>\n",
       "      <th>Level</th>\n",
       "      <th>Language</th>\n",
       "      <th>Similarity Rank</th>\n",
       "    </tr>\n",
       "  </thead>\n",
       "  <tbody>\n",
       "    <tr>\n",
       "      <th>4272</th>\n",
       "      <td>VID4272</td>\n",
       "      <td>Receive every by particular church bit</td>\n",
       "      <td>9</td>\n",
       "      <td>53.52</td>\n",
       "      <td>Probably join also issue sell. Save southern q...</td>\n",
       "      <td>http://www.hansen-carter.com/</td>\n",
       "      <td>3.0</td>\n",
       "      <td>Beginner</td>\n",
       "      <td>English</td>\n",
       "      <td>1</td>\n",
       "    </tr>\n",
       "    <tr>\n",
       "      <th>2616</th>\n",
       "      <td>VID2616</td>\n",
       "      <td>Local sort beat name letter</td>\n",
       "      <td>9</td>\n",
       "      <td>16.25</td>\n",
       "      <td>Push return apply president officer. Civil han...</td>\n",
       "      <td>http://www.smith-evans.com/</td>\n",
       "      <td>1.6</td>\n",
       "      <td>Advanced</td>\n",
       "      <td>French</td>\n",
       "      <td>2</td>\n",
       "    </tr>\n",
       "    <tr>\n",
       "      <th>782</th>\n",
       "      <td>VID0782</td>\n",
       "      <td>Continue through network</td>\n",
       "      <td>4</td>\n",
       "      <td>13.95</td>\n",
       "      <td>Employee anything light before nor mission hug...</td>\n",
       "      <td>https://www.james-figueroa.com/</td>\n",
       "      <td>4.0</td>\n",
       "      <td>Advanced</td>\n",
       "      <td>English</td>\n",
       "      <td>3</td>\n",
       "    </tr>\n",
       "    <tr>\n",
       "      <th>4560</th>\n",
       "      <td>VID4560</td>\n",
       "      <td>Among one rich</td>\n",
       "      <td>1</td>\n",
       "      <td>37.55</td>\n",
       "      <td>Around character recently step section busines...</td>\n",
       "      <td>https://little.com/</td>\n",
       "      <td>4.8</td>\n",
       "      <td>Intermediate</td>\n",
       "      <td>Spanish</td>\n",
       "      <td>4</td>\n",
       "    </tr>\n",
       "  </tbody>\n",
       "</table>\n",
       "</div>"
      ],
      "text/plain": [
       "     Video ID                                   Title  Chapter Number  \\\n",
       "4272  VID4272  Receive every by particular church bit               9   \n",
       "2616  VID2616             Local sort beat name letter               9   \n",
       "782   VID0782                Continue through network               4   \n",
       "4560  VID4560                          Among one rich               1   \n",
       "\n",
       "      Duration                                        Description  \\\n",
       "4272     53.52  Probably join also issue sell. Save southern q...   \n",
       "2616     16.25  Push return apply president officer. Civil han...   \n",
       "782      13.95  Employee anything light before nor mission hug...   \n",
       "4560     37.55  Around character recently step section busines...   \n",
       "\n",
       "                                  URL  Rating         Level Language  \\\n",
       "4272    http://www.hansen-carter.com/     3.0      Beginner  English   \n",
       "2616      http://www.smith-evans.com/     1.6      Advanced   French   \n",
       "782   https://www.james-figueroa.com/     4.0      Advanced  English   \n",
       "4560              https://little.com/     4.8  Intermediate  Spanish   \n",
       "\n",
       "      Similarity Rank  \n",
       "4272                1  \n",
       "2616                2  \n",
       "782                 3  \n",
       "4560                4  "
      ]
     },
     "execution_count": 13,
     "metadata": {},
     "output_type": "execute_result"
    }
   ],
   "source": [
    "# Example: Get sorted recommendations for a given video ID\n",
    "sorted_recommendations = get_sorted_recommendations(video_id=\"VID0872\", top_n=4)\n",
    "sorted_recommendations"
   ]
  },
  {
   "cell_type": "code",
   "execution_count": null,
   "id": "382a2918",
   "metadata": {},
   "outputs": [],
   "source": []
  },
  {
   "cell_type": "code",
   "execution_count": null,
   "id": "29db1ad7",
   "metadata": {},
   "outputs": [],
   "source": []
  },
  {
   "cell_type": "code",
   "execution_count": null,
   "id": "a6958833",
   "metadata": {},
   "outputs": [],
   "source": []
  },
  {
   "cell_type": "code",
   "execution_count": null,
   "id": "94ff533a",
   "metadata": {},
   "outputs": [],
   "source": []
  },
  {
   "cell_type": "code",
   "execution_count": null,
   "id": "3c837f3f",
   "metadata": {},
   "outputs": [],
   "source": []
  },
  {
   "cell_type": "code",
   "execution_count": null,
   "id": "22046d2f",
   "metadata": {},
   "outputs": [],
   "source": []
  },
  {
   "cell_type": "code",
   "execution_count": null,
   "id": "73721537",
   "metadata": {},
   "outputs": [],
   "source": []
  },
  {
   "cell_type": "code",
   "execution_count": null,
   "id": "7a886abf",
   "metadata": {},
   "outputs": [],
   "source": []
  },
  {
   "cell_type": "code",
   "execution_count": null,
   "id": "e37feaeb",
   "metadata": {},
   "outputs": [],
   "source": []
  },
  {
   "cell_type": "code",
   "execution_count": null,
   "id": "ec5edb68",
   "metadata": {},
   "outputs": [],
   "source": []
  },
  {
   "cell_type": "code",
   "execution_count": null,
   "id": "72f04a4a",
   "metadata": {},
   "outputs": [],
   "source": []
  },
  {
   "cell_type": "code",
   "execution_count": null,
   "id": "eae9a00f",
   "metadata": {},
   "outputs": [],
   "source": []
  },
  {
   "cell_type": "code",
   "execution_count": null,
   "id": "2579028b",
   "metadata": {},
   "outputs": [],
   "source": []
  },
  {
   "cell_type": "code",
   "execution_count": null,
   "id": "95262852",
   "metadata": {},
   "outputs": [],
   "source": []
  },
  {
   "cell_type": "code",
   "execution_count": null,
   "id": "23f361e4",
   "metadata": {},
   "outputs": [],
   "source": []
  },
  {
   "cell_type": "code",
   "execution_count": null,
   "id": "59fb0cd9",
   "metadata": {},
   "outputs": [],
   "source": []
  },
  {
   "cell_type": "code",
   "execution_count": null,
   "id": "e8363cf3",
   "metadata": {},
   "outputs": [],
   "source": []
  },
  {
   "cell_type": "code",
   "execution_count": null,
   "id": "15cf130c",
   "metadata": {},
   "outputs": [],
   "source": []
  },
  {
   "cell_type": "markdown",
   "id": "85d9ec97",
   "metadata": {},
   "source": [
    "# Recommendation Evaluations\n",
    "\n",
    "\n",
    "To evaluate this recommendation system, we can use similarity metrics that measure how well the recommendations match the selected video based on their embeddings. Mean Reciprocal Rank (MRR), Precision at k (P@k), and Normalized Discounted Cumulative Gain (nDCG) are widely used for such tasks, as they quantify how well the top recommendations align with user interest."
   ]
  },
  {
   "cell_type": "code",
   "execution_count": 31,
   "id": "eb7725eb",
   "metadata": {},
   "outputs": [
    {
     "name": "stdout",
     "output_type": "stream",
     "text": [
      "Optimized Evaluation Results: {'Mean Reciprocal Rank (MRR)': 1.0, 'Precision at K': 0.0, 'nDCG at K': 0.0}\n"
     ]
    }
   ],
   "source": [
    "import torch\n",
    "import numpy as np\n",
    "from sentence_transformers import util\n",
    "\n",
    "# Stack all embeddings into a tensor for efficient similarity computation\n",
    "embeddings = torch.stack(df['embedding'].values.tolist())\n",
    "video_ids = df['Video ID'].values\n",
    "\n",
    "# Define evaluation metrics optimized for batch processing\n",
    "def mean_reciprocal_rank_batch(similarity_matrix, video_ids):\n",
    "    ranks = []\n",
    "    for i in range(len(video_ids)):\n",
    "        # Get indices sorted by similarity for each video\n",
    "        sorted_indices = torch.argsort(similarity_matrix[i], descending=True)\n",
    "        \n",
    "        # Find rank of the relevant video (itself)\n",
    "        rank = (sorted_indices == i).nonzero(as_tuple=True)[0].item() + 1\n",
    "        ranks.append(1 / rank if rank != 0 else 0)\n",
    "    return np.mean(ranks)\n",
    "\n",
    "def precision_at_k_batch(similarity_matrix, video_ids, k=5):\n",
    "    precisions = []\n",
    "    for i in range(len(video_ids)):\n",
    "        # Get indices of top K results\n",
    "        top_k_indices = torch.argsort(similarity_matrix[i], descending=True)[1:k+1]\n",
    "        \n",
    "        # Check if the target video ID is in the top K\n",
    "        relevant_count = (video_ids[top_k_indices] == video_ids[i]).sum().item()\n",
    "        precisions.append(relevant_count / k)\n",
    "    return np.mean(precisions)\n",
    "\n",
    "def ndcg_at_k_batch(similarity_matrix, video_ids, k=5):\n",
    "    ndcgs = []\n",
    "    for i in range(len(video_ids)):\n",
    "        top_k_indices = torch.argsort(similarity_matrix[i], descending=True)[1:k+1]\n",
    "        \n",
    "        # Calculate DCG\n",
    "        dcg = sum([(video_ids[top_k_indices[j]] == video_ids[i]) / np.log2(j + 2) for j in range(k)])\n",
    "        idcg = 1  # Ideal DCG where the relevant item is in the top rank\n",
    "        ndcgs.append(dcg / idcg)\n",
    "    return np.mean(ndcgs)\n",
    "\n",
    "# Calculate cosine similarity matrix in a batch\n",
    "similarity_matrix = util.cos_sim(embeddings, embeddings)\n",
    "\n",
    "# Evaluate recommendation system with batch calculations\n",
    "evaluation_results = {\n",
    "    'Mean Reciprocal Rank (MRR)': mean_reciprocal_rank_batch(similarity_matrix, video_ids),\n",
    "    'Precision at K': precision_at_k_batch(similarity_matrix, video_ids, k=5),\n",
    "    'nDCG at K': ndcg_at_k_batch(similarity_matrix, video_ids, k=5)\n",
    "}\n",
    "\n",
    "print(\"Optimized Evaluation Results:\", evaluation_results)\n"
   ]
  },
  {
   "cell_type": "code",
   "execution_count": null,
   "id": "254a1cb6",
   "metadata": {},
   "outputs": [],
   "source": []
  }
 ],
 "metadata": {
  "kernelspec": {
   "display_name": "Python 3 (ipykernel)",
   "language": "python",
   "name": "python3"
  },
  "language_info": {
   "codemirror_mode": {
    "name": "ipython",
    "version": 3
   },
   "file_extension": ".py",
   "mimetype": "text/x-python",
   "name": "python",
   "nbconvert_exporter": "python",
   "pygments_lexer": "ipython3",
   "version": "3.9.12"
  }
 },
 "nbformat": 4,
 "nbformat_minor": 5
}
